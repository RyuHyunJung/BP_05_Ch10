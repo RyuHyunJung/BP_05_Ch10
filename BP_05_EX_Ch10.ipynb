{
  "nbformat": 4,
  "nbformat_minor": 0,
  "metadata": {
    "colab": {
      "provenance": [],
      "authorship_tag": "ABX9TyOHrxGgee2Uw6GvvD2d5W5i",
      "include_colab_link": true
    },
    "kernelspec": {
      "name": "python3",
      "display_name": "Python 3"
    },
    "language_info": {
      "name": "python"
    }
  },
  "cells": [
    {
      "cell_type": "markdown",
      "metadata": {
        "id": "view-in-github",
        "colab_type": "text"
      },
      "source": [
        "<a href=\"https://colab.research.google.com/github/RyuHyunJung/BP_05_Ch10/blob/main/BP_05_EX_Ch10.ipynb\" target=\"_parent\"><img src=\"https://colab.research.google.com/assets/colab-badge.svg\" alt=\"Open In Colab\"/></a>"
      ]
    },
    {
      "cell_type": "code",
      "source": [
        "from tkinter import Tk, Label, Button            # 단순위젯, Label = 텍스트나 이미지를 표시 , Button = 간단한 버튼으로 명령을 수행할 때 사용\n",
        "\n",
        "def greet():\n",
        "  print(\"파이썬에 오신 것을 환영합니다. \")\n",
        "\n",
        "window = Tk()                                     #window 변수에 Tk() 세팅\n",
        "label = Label(window, text=\"간단한 GUI 프로그램!\")\n",
        "label.pack()\n",
        "\n",
        "greet_button = Button(window, text=\"환영합니다.\", command=greet)\n",
        "greet_button.pack()\n",
        "\n",
        "close_button = Button(window, text=\"종료\", command=window.quit)\n",
        "close_button.pack()\n",
        "\n",
        "window.mainloop()                                # 윈도우이름의 윈도우 창을 윈도우가 종료될 때 까지 실행"
      ],
      "metadata": {
        "id": "uwJeVXO2XJV1"
      },
      "execution_count": null,
      "outputs": []
    },
    {
      "cell_type": "code",
      "source": [
        "from tkinter import Tk, Label, Button, Entry, IntVar, END, W, E         # 단순위젯\n",
        "\n",
        "def update_add():\n",
        "  update(\"add\")\n",
        "\n",
        "def update_subtract():\n",
        "  update(\"subtract\")\n",
        "\n",
        "def update_reset():\n",
        "  update(\"reset\")\n",
        "\n",
        "window = Tk()                                     #window 변수에 Tk() 세팅                       \n",
        "total = 0\n",
        "sum = Label(window)\n",
        "sum.grid(row=0, column=1, columnspan=2)\n",
        "\n",
        "label = Label(window, text=\"현재 합계:\")\n",
        "label.grid(row=0, column=0)\n",
        "\n",
        "entry = Entry(window)\n",
        "entry.grid(row=1, column=0, columnspan=3)\n",
        "add_button = Button(window, text=\"더하기(+)\", command=update_add)\n",
        "subtract_button = Button(window, text=\"빼기(-)\", command=update_subtract)\n",
        "reset_button = Button(window, text=\"초기화\", command=update_reset)\n",
        "\n",
        "add_button.grid(row=2, column=0)\n",
        "subtract_button.grid(row=2,column=1)\n",
        "reset_button.grid(row=2, column=2)\n",
        "\n",
        "def update(method):\n",
        "  global total\n",
        "  if method ==\"add\":\n",
        "    total += int(entry.get())\n",
        "  elif method == \"subtract\":\n",
        "    total += int(entry.get())\n",
        "  else:\n",
        "    total = 0\n",
        "  sum['text'] = str(total)\n",
        "  entry.delete(0,END)\n",
        "\n",
        "window.mainloop()\n"
      ],
      "metadata": {
        "id": "Irurq-g8XbuQ"
      },
      "execution_count": null,
      "outputs": []
    }
  ]
}